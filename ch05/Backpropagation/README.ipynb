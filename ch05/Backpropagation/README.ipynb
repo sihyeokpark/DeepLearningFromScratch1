{
 "cells": [
  {
   "cell_type": "code",
   "execution_count": 5,
   "metadata": {},
   "outputs": [],
   "source": [
    "class MulLayer():\n",
    "    def __init__(self):\n",
    "        self.x = None\n",
    "        self.y = None\n",
    "    \n",
    "    def forward(self, x, y):\n",
    "        self.x = x\n",
    "        self.y = y\n",
    "        return self.x * self.y\n",
    "    \n",
    "    def backward(self, upper):\n",
    "        dx = upper * self.y\n",
    "        dy = upper * self.x\n",
    "        return dx, dy\n",
    "        \n",
    "        "
   ]
  },
  {
   "cell_type": "code",
   "execution_count": 6,
   "metadata": {},
   "outputs": [],
   "source": [
    "class SumLayer():\n",
    "    def forward(self, x, y):\n",
    "        return x+y\n",
    "    \n",
    "    def backward(self, upper):\n",
    "        return upper"
   ]
  },
  {
   "cell_type": "code",
   "execution_count": 8,
   "metadata": {},
   "outputs": [
    {
     "name": "stdout",
     "output_type": "stream",
     "text": [
      "220.00000000000003\n",
      "2.2 110.00000000000001 200\n"
     ]
    }
   ],
   "source": [
    "apple = 100\n",
    "appleNum = 2\n",
    "tax = 1.1\n",
    "\n",
    "layer1 = MulLayer()\n",
    "layer2 = MulLayer()\n",
    "print(layer2.forward(layer1.forward(apple, appleNum), tax))\n",
    "x, taxWeight = layer2.backward(1)\n",
    "appleWeight, appleNumWeight = layer1.backward(x)\n",
    "print(appleWeight, appleNumWeight, taxWeight)"
   ]
  },
  {
   "cell_type": "code",
   "execution_count": null,
   "metadata": {},
   "outputs": [],
   "source": []
  }
 ],
 "metadata": {
  "kernelspec": {
   "display_name": "Python 3",
   "language": "python",
   "name": "python3"
  },
  "language_info": {
   "codemirror_mode": {
    "name": "ipython",
    "version": 3
   },
   "file_extension": ".py",
   "mimetype": "text/x-python",
   "name": "python",
   "nbconvert_exporter": "python",
   "pygments_lexer": "ipython3",
   "version": "3.10.6"
  },
  "orig_nbformat": 4,
  "vscode": {
   "interpreter": {
    "hash": "65888023e3991c6ad9bbfc0a378c20fdea6ac12610a9f42807a73045ac4b632d"
   }
  }
 },
 "nbformat": 4,
 "nbformat_minor": 2
}
