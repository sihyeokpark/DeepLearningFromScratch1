{
 "cells": [
  {
   "cell_type": "markdown",
   "metadata": {},
   "source": [
    "# 수치 미분  \n",
    "    \n",
    "## 미분  \n",
    "한순간의 변화량을 표시한 것.  \n",
    "그래프의 한순간의 기울기인거 같음  \n",
    "  \n",
    "<img src=\"./img/math.png\">      <br>\n",
    "이 사진을 보면 중1 때 배웠던 기울기 수식이랑 비슷한거 같음  \n",
    "x증가량 분의 y증가량 즉, x증가량/y증가량 이 기울기 구하는 식이였는데 미분도 비슷하다  "
   ]
  },
  {
   "cell_type": "markdown",
   "metadata": {},
   "source": [
    "### 미분의 잘못된 예\n",
    "1e-50 는 아주 작은 숫자라서 컴퓨터에서 0.0 이라고 인식한다.  \n",
    "**반올림 오차** 문제를 일으킨다.  \n",
    "  \n",
    "여기서 작은 숫자를 대입하는 이유는 더 정확한 기울기를 구하려고 하기 때문인듯  \n",
    "이 구현으로는 진정한 미분 (진정한 접선) 을 구하기는 힘들다고 한다.  \n",
    "  \n",
    "1e-4 가 가장 적당한 값이라고 한다.  "
   ]
  },
  {
   "cell_type": "code",
   "execution_count": 25,
   "metadata": {},
   "outputs": [],
   "source": [
    "def numerical_diff(f, x):\n",
    "    h = 1e-50 # 잘못된 수\n",
    "    return (f(x+h) - f(x)) / h"
   ]
  },
  {
   "cell_type": "code",
   "execution_count": 26,
   "metadata": {},
   "outputs": [],
   "source": [
    "def numerical_diff(f, x):\n",
    "    h = 1e-4 # 옳은 수\n",
    "    return (f(x+h) - f(x)) / h"
   ]
  },
  {
   "cell_type": "markdown",
   "metadata": {},
   "source": [
    "## 전방 차분과 중심 차분, 중앙 차분\n",
    "방금 구현한 미분 함수는 f(x) 와 f(x+h) 의 기울기를 구한 것이다.  \n",
    "이를 **전방 차분** 이라고 한다.  \n",
    "  \n",
    "중심 차분, 중앙 차분은 f(x-h) 와 f(x+h) 의 기울기를 구하는 것이므로 정확히 중심이 x 인 접선을 구하는 것이다.  \n",
    "이 때, (x-h) 와 (x+h) 의 차는 2h 이므로 함수를 구할 때 h로 나누는 것이 아닌 2h 로 나누어야 한다.  "
   ]
  },
  {
   "cell_type": "code",
   "execution_count": 27,
   "metadata": {},
   "outputs": [],
   "source": [
    "def numerical_diff(f, x):\n",
    "    h = 1e-4\n",
    "    return (f(x+h) - f(x-h)) / (2 * h)"
   ]
  },
  {
   "cell_type": "markdown",
   "metadata": {},
   "source": [
    "## 수치 미분 예\n",
    "y = 0.01x^2 + 0.1x 를 미분해보자"
   ]
  },
  {
   "cell_type": "code",
   "execution_count": 28,
   "metadata": {},
   "outputs": [],
   "source": [
    "def function_1(x):\n",
    "    return 0.01*(x**2) + 0.1*x"
   ]
  },
  {
   "cell_type": "code",
   "execution_count": 29,
   "metadata": {},
   "outputs": [
    {
     "data": {
      "image/png": "[encoded data removed]",
      "text/plain": [
       "<Figure size 640x480 with 1 Axes>"
      ]
     },
     "metadata": {},
     "output_type": "display_data"
    }
   ],
   "source": [
    "import numpy as np\n",
    "import matplotlib.pylab as plt\n",
    "\n",
    "x = np.arange(0.0, 20.0, 0.1)\n",
    "y = function_1(x)\n",
    "plt.xlabel('x')\n",
    "plt.ylabel('f(x)')\n",
    "plt.plot(x, y)\n",
    "plt.show()"
   ]
  },
  {
   "cell_type": "code",
   "execution_count": 30,
   "metadata": {},
   "outputs": [
    {
     "name": "stdout",
     "output_type": "stream",
     "text": [
      "0.1999999999990898\n",
      "0.2999999999986347\n"
     ]
    }
   ],
   "source": [
    "print(numerical_diff(function_1, 5))\n",
    "print(numerical_diff(function_1, 10))"
   ]
  },
  {
   "cell_type": "markdown",
   "metadata": {},
   "source": [
    "함수 f(x) 의 해석적 미분은 0.02x + 0.1 이다.  \n",
    "그러므로 f(5), f(10)을 미분하면 0.2와 0.3이다.  \n",
    "내가 만든 함수로 미분을 하면 0.1999999999990898와 0.2999999999986347로 아주 근사한 값이 나오게 된다. "
   ]
  },
  {
   "cell_type": "markdown",
   "metadata": {},
   "source": [
    "# 편미분\n",
    "f(x_0, x_1) = x_0^2 + x_1^2  \n",
    "이 함수를 살펴보면 변수가 2개이다.  \n",
    "이를 보면 편미분이 대충 어떤 미분인지 유추 할 수 있을 것이다.   "
   ]
  },
  {
   "cell_type": "code",
   "execution_count": 31,
   "metadata": {},
   "outputs": [],
   "source": [
    "def function_2(x):\n",
    "    return x[0]**2 + x[1]**2"
   ]
  },
  {
   "cell_type": "markdown",
   "metadata": {},
   "source": [
    "이 식을 미분하기 위해서는 x_0, x_1 중에 미분할 대상을 정해야 한다.  \n",
    "이처럼 변수가 여럿인 함수에 대한 미분을 **편미분**이라고 한다.  "
   ]
  },
  {
   "cell_type": "markdown",
   "metadata": {},
   "source": [
    "x_0 = 3, x_1 = 4 일 때, x_0 에 대한 편미분을 구하여라."
   ]
  },
  {
   "cell_type": "code",
   "execution_count": 32,
   "metadata": {},
   "outputs": [
    {
     "data": {
      "text/plain": [
       "6.00000000000378"
      ]
     },
     "execution_count": 32,
     "metadata": {},
     "output_type": "execute_result"
    }
   ],
   "source": [
    "def function_tmp1(x0):\n",
    "    return x0*x0 + 4.0**2.0\n",
    "\n",
    "numerical_diff(function_tmp1, 3.0)"
   ]
  },
  {
   "cell_type": "markdown",
   "metadata": {},
   "source": [
    "x_0 = 3, x_1 4 일 때, x_1 에 대한 편미분을 구하여라."
   ]
  },
  {
   "cell_type": "code",
   "execution_count": 33,
   "metadata": {},
   "outputs": [
    {
     "data": {
      "text/plain": [
       "7.999999999999119"
      ]
     },
     "execution_count": 33,
     "metadata": {},
     "output_type": "execute_result"
    }
   ],
   "source": [
    "def function_tmp2(x1):\n",
    "    return 3.0**2.0 + x1*x1\n",
    "\n",
    "numerical_diff(function_tmp2, 4.0)"
   ]
  },
  {
   "cell_type": "markdown",
   "metadata": {},
   "source": [
    "### 기울기\n",
    "x_0 와 x_1 의 편미분을 변수별로 따로 계산했습니다.  \n",
    "그럼 x_0 과 x_1 의 편미분을 동싱에 계산하고 싶으면 어떻게 해야할까?  \n",
    "  \n",
    "x_0 = 3, x_1 = 4 일 때,  \n",
    "(x_0, x_1)를 편미분하여 벡터로 정리한 것을 **기울기** 라고 한다.  \n",
    "  \n",
    "**기울기**: 모든 변수의 편미분을 벡터로 정리한 것  "
   ]
  },
  {
   "cell_type": "code",
   "execution_count": 34,
   "metadata": {},
   "outputs": [],
   "source": [
    "def numerical_diff(f, x):\n",
    "    h = 1e-4\n",
    "    grad = np.zeros_like(x)\n",
    "\n",
    "    for i in range(x.size):\n",
    "        tmp = x[i]\n",
    "        x[i] = tmp + h\n",
    "        fxh1 = f(x)\n",
    "        \n",
    "        x[i] = tmp - h\n",
    "        fxh2 = f(x)\n",
    "\n",
    "        grad[i] = (fxh1 - fxh2) / (2*h)\n",
    "        x[i] = tmp\n",
    "    \n",
    "    return grad"
   ]
  },
  {
   "cell_type": "code",
   "execution_count": 35,
   "metadata": {},
   "outputs": [
    {
     "data": {
      "text/plain": [
       "array([6., 8.])"
      ]
     },
     "execution_count": 35,
     "metadata": {},
     "output_type": "execute_result"
    }
   ],
   "source": [
    "numerical_diff(function_2, np.array([3.0, 4.0]))"
   ]
  },
  {
   "cell_type": "markdown",
   "metadata": {},
   "source": [
    "기울기는 가장 낮은 장소 (최솟값) 을 가리키는 것 같지만, 사실은 각 지점에서 낮아지는 방향을 가리킨다.  \n",
    "즉, **기울기가 가리키는 쪽은 각 장소에서 함수의 출력 값을 가장 크게 줄이는 방향** 이다.\n",
    "\n",
    "(이 내용이 경사하강법의 원리에 적용될듯. 오차함수의 크기를 가장 크게 줄이는 방향으로 쓰일 수 있으니)"
   ]
  },
  {
   "cell_type": "markdown",
   "metadata": {},
   "source": [
    "# 경사하강법  \n",
    "기울기를 이용해 함수의 최솟값(또는 가능한 한 작은 값)을 찾는 것  \n",
    "\n",
    "함수가 극솟값, 최솟값, 또 **안장점(Saddle Point)** 극솟값은 국소적인 최솟값, 즉 한정된 범위에서의 최솟값인 점이다. \n",
    "    \n",
    "극솟값: 국소적인 최솟값, 즉 한정된 범위에서의 최솟값인 점  \n",
    "안장점: 어느 방향에서 보면 극댓값이고 다른 방향에서 보면 극솟값이 되는 점  \n",
    "![](https://upload.wikimedia.org/wikipedia/commons/thumb/4/40/Saddle_point.png/640px-Saddle_point.png)"
   ]
  },
  {
   "cell_type": "markdown",
   "metadata": {},
   "source": [
    "### 경사법 수식\n",
    "![](https://velog.velcdn.com/images%2Fjakeseo_me%2Fpost%2F1d5481d5-c66d-4c92-86d7-b4c8c83c8c60%2Fgradient_descent_method_equation.png)  \n",
    "  \n",
    "n(에타) 기호는 Learning Rate (학습률) 이다.  \n",
    "기울기에 학습률을 곱해 x에 경사하강법을 시행한다.  \n",
    "학습률이 너무 크거나 작으면 경사하강법이 제대로 일어나지 않을 수 있다.  "
   ]
  },
  {
   "cell_type": "code",
   "execution_count": 36,
   "metadata": {},
   "outputs": [],
   "source": [
    "def gradient_descent(f, init_x, lr=0.01, step_num=100):\n",
    "    x = init_x\n",
    "\n",
    "    for i in range(step_num):\n",
    "        grad = numerical_diff(f, x)\n",
    "        x -= lr * grad\n",
    "    return x"
   ]
  },
  {
   "cell_type": "code",
   "execution_count": 37,
   "metadata": {},
   "outputs": [
    {
     "name": "stdout",
     "output_type": "stream",
     "text": [
      "learning rate: 10\t [-2.58983747e+13 -1.29524862e+12]\n",
      "learning rate: 1.0\t [-3.  4.]\n",
      "learning rate: 0.1\t [-6.11110793e-10  8.14814391e-10]\n",
      "learning rate: 0.01\t [-0.39785867  0.53047822]\n",
      "learning rate: 0.001\t [-2.45570041  3.27426722]\n",
      "learning rate: 0.0001\t [-2.94059014  3.92078685]\n",
      "learning rate: 1e-05\t [-2.99400594  3.99200791]\n",
      "learning rate: 1e-06\t [-2.99940006  3.99920008]\n",
      "learning rate: 1e-07\t [-2.99994  3.99992]\n",
      "learning rate: 1e-08\t [-2.999994  3.999992]\n",
      "learning rate: 1e-09\t [-2.9999994  3.9999992]\n",
      "learning rate: 1e-10\t [-2.99999994  3.99999992]\n"
     ]
    }
   ],
   "source": [
    "init_x = np.array([-3.0, 4.0])\n",
    "print(f'learning rate: {10}\\t', gradient_descent(function_2, init_x=init_x, lr=10, step_num=100))\n",
    "for i in range(11):\n",
    "    init_x = np.array([-3.0, 4.0])\n",
    "    lr = round(0.1 ** i, i+1)\n",
    "    result = gradient_descent(function_2, init_x=init_x, lr=lr, step_num=100)\n",
    "    print(f'learning rate: {lr}\\t', result)"
   ]
  },
  {
   "cell_type": "code",
   "execution_count": 38,
   "metadata": {},
   "outputs": [],
   "source": [
    "import numpy as np\n",
    "\n",
    "def crossEntropyError(y, t):\n",
    "    if y.ndim == 1:\n",
    "        t = t.reshape(1, t.size)\n",
    "        y = y.reshape(1, y.size)\n",
    "        \n",
    "    # 훈련 데이터가 원-핫 벡터라면 정답 레이블의 인덱스로 반환\n",
    "    if t.size == y.size:\n",
    "        t = t.argmax(axis=1)\n",
    "             \n",
    "    batch_size = y.shape[0]\n",
    "    return -np.sum(np.log(y[np.arange(batch_size), t] + 1e-7)) / batch_size\n",
    "\n",
    "def softmax(x):\n",
    "    if x.ndim == 2:\n",
    "        x = x.T\n",
    "        x = x - np.max(x, axis=0)\n",
    "        y = np.exp(x) / np.sum(np.exp(x), axis=0)\n",
    "        return y.T \n",
    "\n",
    "    x = x - np.max(x) # 오버플로 대책\n",
    "    return np.exp(x) / np.sum(np.exp(x))\n",
    "\n",
    "\n",
    "class SimpleNet():\n",
    "    def __init__(self):\n",
    "        self.weight = np.random.randn(2, 3)\n",
    "        \n",
    "    def predict(self, x):\n",
    "        return np.dot(x, self.weight)\n",
    "\n",
    "    def loss(self, x, t):\n",
    "        result = self.predict(x)\n",
    "        activateResult = softmax(result)\n",
    "        return crossEntropyError(activateResult, t)\n",
    "        "
   ]
  },
  {
   "cell_type": "code",
   "execution_count": 39,
   "metadata": {},
   "outputs": [
    {
     "name": "stdout",
     "output_type": "stream",
     "text": [
      "0.9800100892517114\n"
     ]
    }
   ],
   "source": [
    "simpleNet = SimpleNet()\n",
    "x = np.array([1, 2])\n",
    "simpleNet.predict(x)\n",
    "t = np.array([0, 0, 1])\n",
    "print(simpleNet.loss(x, t))"
   ]
  },
  {
   "cell_type": "code",
   "execution_count": 41,
   "metadata": {},
   "outputs": [],
   "source": [
    "def numericalGradient(f, w):\n",
    "    h = 1e-4\n",
    "    grad = np.zeros_like(w)\n",
    "\n",
    "    for i in range(w.size):\n",
    "        tmp = w[i]\n",
    "        w[i] = tmp + h\n",
    "        fxh1 = f(w)\n",
    "\n",
    "        w[i] = tmp - h\n",
    "        fxh2 = f(w)\n",
    "\n",
    "        grad[i] = (fxh1 - fxh2)/(2*h)\n",
    "        w[i] = tmp\n",
    "    return grad\n"
   ]
  },
  {
   "cell_type": "code",
   "execution_count": 42,
   "metadata": {},
   "outputs": [
    {
     "ename": "IndexError",
     "evalue": "index 2 is out of bounds for axis 0 with size 2",
     "output_type": "error",
     "traceback": [
      "\u001b[1;31m---------------------------------------------------------------------------\u001b[0m",
      "\u001b[1;31mIndexError\u001b[0m                                Traceback (most recent call last)",
      "Cell \u001b[1;32mIn [42], line 4\u001b[0m\n\u001b[0;32m      1\u001b[0m \u001b[39mdef\u001b[39;00m \u001b[39mf\u001b[39m(W):\n\u001b[0;32m      2\u001b[0m     \u001b[39mreturn\u001b[39;00m simpleNet\u001b[39m.\u001b[39mloss(x, t)\n\u001b[1;32m----> 4\u001b[0m dW \u001b[39m=\u001b[39m numericalGradient(f, simpleNet\u001b[39m.\u001b[39mweight)\n",
      "Cell \u001b[1;32mIn [41], line 6\u001b[0m, in \u001b[0;36mnumericalGradient\u001b[1;34m(f, w)\u001b[0m\n\u001b[0;32m      3\u001b[0m grad \u001b[39m=\u001b[39m np\u001b[39m.\u001b[39mzeros_like(w)\n\u001b[0;32m      5\u001b[0m \u001b[39mfor\u001b[39;00m i \u001b[39min\u001b[39;00m \u001b[39mrange\u001b[39m(w\u001b[39m.\u001b[39msize):\n\u001b[1;32m----> 6\u001b[0m     tmp \u001b[39m=\u001b[39m w[i]\n\u001b[0;32m      7\u001b[0m     w[i] \u001b[39m=\u001b[39m tmp \u001b[39m+\u001b[39m h\n\u001b[0;32m      8\u001b[0m     fxh1 \u001b[39m=\u001b[39m f(w)\n",
      "\u001b[1;31mIndexError\u001b[0m: index 2 is out of bounds for axis 0 with size 2"
     ]
    }
   ],
   "source": [
    "def f(W):\n",
    "    return simpleNet.loss(x, t)\n",
    "\n",
    "dW = numericalGradient(f, simpleNet.weight)"
   ]
  },
  {
   "cell_type": "code",
   "execution_count": null,
   "metadata": {},
   "outputs": [],
   "source": []
  }
 ],
 "metadata": {
  "kernelspec": {
   "display_name": "Python 3.10.6 64-bit",
   "language": "python",
   "name": "python3"
  },
  "language_info": {
   "codemirror_mode": {
    "name": "ipython",
    "version": 3
   },
   "file_extension": ".py",
   "mimetype": "text/x-python",
   "name": "python",
   "nbconvert_exporter": "python",
   "pygments_lexer": "ipython3",
   "version": "3.10.6"
  },
  "orig_nbformat": 4,
  "vscode": {
   "interpreter": {
    "hash": "65888023e3991c6ad9bbfc0a378c20fdea6ac12610a9f42807a73045ac4b632d"
   }
  }
 },
 "nbformat": 4,
 "nbformat_minor": 2
}
